{
 "cells": [
  {
   "cell_type": "markdown",
   "id": "70b72b74-15d4-4569-9eaf-f05eb1fe88dc",
   "metadata": {},
   "source": [
    "#### Regex in NLP"
   ]
  },
  {
   "cell_type": "code",
   "execution_count": 1,
   "id": "a23f5f7a-de86-41d7-ba50-7f003427a61b",
   "metadata": {},
   "outputs": [],
   "source": [
    "import re"
   ]
  },
  {
   "cell_type": "code",
   "execution_count": 18,
   "id": "e8ad1a72-b7ce-463c-be3a-a369e59ae2d4",
   "metadata": {},
   "outputs": [],
   "source": [
    "chat1 = \"sdfksjfk 1234567899 1134567899 (113)-456-7899\"\n",
    "chat2 = \"abc@xyz.com abX_82@xyz.com\"\n",
    "chat3 = \"order # 41243443 order number 41243443 order 41243443\""
   ]
  },
  {
   "cell_type": "code",
   "execution_count": 14,
   "id": "b71faaa7-d73a-41b3-9b73-6af2282324bd",
   "metadata": {},
   "outputs": [
    {
     "data": {
      "text/plain": [
       "['1234567899', '1134567899', '(113)-456-7899']"
      ]
     },
     "execution_count": 14,
     "metadata": {},
     "output_type": "execute_result"
    }
   ],
   "source": [
    "pattern = \"\\d{10}|\\(\\d{3}\\)-\\d{3}-\\d{4}\"\n",
    "matches = re.findall(pattern, chat1)\n",
    "matches"
   ]
  },
  {
   "cell_type": "code",
   "execution_count": 21,
   "id": "53cd9cec-1c78-4fe3-a3a6-ac678e1e5704",
   "metadata": {},
   "outputs": [
    {
     "data": {
      "text/plain": [
       "['abc@xyz.com', 'abX_82@xyz.com']"
      ]
     },
     "execution_count": 21,
     "metadata": {},
     "output_type": "execute_result"
    }
   ],
   "source": [
    "pattern = \"[aA-zZ0-9_]*@[aA-zZ0-9]*\\.[aA-zZ]*\"\n",
    "emails = re.findall(pattern, chat2)\n",
    "emails "
   ]
  },
  {
   "cell_type": "code",
   "execution_count": 22,
   "id": "25f658da-8dde-4ad0-9eb4-86a44148391c",
   "metadata": {},
   "outputs": [
    {
     "data": {
      "text/plain": [
       "['41243443', '41243443', '41243443']"
      ]
     },
     "execution_count": 22,
     "metadata": {},
     "output_type": "execute_result"
    }
   ],
   "source": [
    "pattern = \"order[^\\d]*(\\d*)\"\n",
    "order = re.findall(pattern, chat3)\n",
    "order"
   ]
  },
  {
   "cell_type": "code",
   "execution_count": 33,
   "id": "f98e72d0-2ca6-4a5f-8e8f-7ad7b509e1b1",
   "metadata": {},
   "outputs": [],
   "source": [
    "text = '''Pichai in 2020\n",
    "Born\tPichai Sundararajan\n",
    "June 10, 1972 (age 50)\n",
    "Madurai, Tamil Nadu, India\n",
    "Citizenship\tUnited States[1]\n",
    "Education\tIIT Kharagpur (BTech)\n",
    "Stanford University (MS)\n",
    "University of Pennsylvania (MBA)\n",
    "Title\tCEO of Alphabet and Google\n",
    "Board member of\t\n",
    "Alphabet Inc.[2]\n",
    "Magic Leap (2014–2018)[3]\n",
    "Spouse(s)\tAnjali Pichai\n",
    "Children\t2\n",
    "Awards\tIND Padma Bhushan BAR.png Padma Bhushan\n",
    "Signature'''"
   ]
  },
  {
   "cell_type": "code",
   "execution_count": 27,
   "id": "4e90436f-b265-4a8e-8092-fb7214d8886c",
   "metadata": {},
   "outputs": [
    {
     "data": {
      "text/plain": [
       "['50', '50']"
      ]
     },
     "execution_count": 27,
     "metadata": {},
     "output_type": "execute_result"
    }
   ],
   "source": [
    "pattern = \"age (\\d+)\"\n",
    "age = re.findall(pattern, text)\n",
    "age"
   ]
  },
  {
   "cell_type": "code",
   "execution_count": 28,
   "id": "081a5b83-fd07-4c5d-8c68-22c1c410dabc",
   "metadata": {},
   "outputs": [
    {
     "data": {
      "text/plain": [
       "['\\tPichai Sundararajan']"
      ]
     },
     "execution_count": 28,
     "metadata": {},
     "output_type": "execute_result"
    }
   ],
   "source": [
    "pattern = \"Born(.*)\"\n",
    "name = re.findall(pattern, text)\n",
    "name"
   ]
  },
  {
   "cell_type": "code",
   "execution_count": 30,
   "id": "c4ec101b-66b1-493f-a91b-a5c32fb8ff0b",
   "metadata": {},
   "outputs": [
    {
     "data": {
      "text/plain": [
       "'June 10, 1972'"
      ]
     },
     "execution_count": 30,
     "metadata": {},
     "output_type": "execute_result"
    }
   ],
   "source": [
    "pattern = \"Born.*\\n(.*)\\(age\"\n",
    "date = re.findall(pattern, text)\n",
    "date[0].strip()"
   ]
  },
  {
   "cell_type": "code",
   "execution_count": 35,
   "id": "556b0460-c347-41b9-a264-655f58f1b3fc",
   "metadata": {},
   "outputs": [
    {
     "data": {
      "text/plain": [
       "['Madurai, Tamil Nadu, India']"
      ]
     },
     "execution_count": 35,
     "metadata": {},
     "output_type": "execute_result"
    }
   ],
   "source": [
    "pattern = \"age.*\\n(.*)\"\n",
    "place = re.findall(pattern, text)\n",
    "place"
   ]
  },
  {
   "cell_type": "code",
   "execution_count": 40,
   "id": "76dc1d0e-f5a1-4741-8546-e64ff292d53f",
   "metadata": {},
   "outputs": [],
   "source": [
    "def get_pattern_match(pattern, text):\n",
    "    matches = re.findall(pattern, text)\n",
    "    if matches:\n",
    "        return matches[0]\n",
    "\n",
    "def get_personal_info(text):\n",
    "    age = get_pattern_match(\"age (\\d+)\", text)\n",
    "    name = get_pattern_match(\"Born(.*)\", text)\n",
    "    birthdate = get_pattern_match(\"Born.*\\n(.*)\\(age\", text)\n",
    "    place = get_pattern_match(\"age.*\\n(.*)\", text)\n",
    "    return {\n",
    "        \"name\": name.strip(),\n",
    "        \"age\": int(age),\n",
    "        \"birthdate\": birthdate.strip(),\n",
    "        \"place\": place.strip()\n",
    "    }"
   ]
  },
  {
   "cell_type": "code",
   "execution_count": 39,
   "id": "40ddad56-4d88-4f96-8ad2-d0ef4944c8d4",
   "metadata": {},
   "outputs": [
    {
     "data": {
      "text/plain": [
       "'Madurai, Tamil Nadu, India'"
      ]
     },
     "execution_count": 39,
     "metadata": {},
     "output_type": "execute_result"
    }
   ],
   "source": [
    "get_pattern_match(\"age.*\\n(.*)\", text)"
   ]
  },
  {
   "cell_type": "code",
   "execution_count": 41,
   "id": "f4e9a1eb-1b20-4278-8bb5-1c594b20ce5f",
   "metadata": {},
   "outputs": [
    {
     "data": {
      "text/plain": [
       "{'name': 'Pichai Sundararajan',\n",
       " 'age': 50,\n",
       " 'birthdate': 'June 10, 1972',\n",
       " 'place': 'Madurai, Tamil Nadu, India'}"
      ]
     },
     "execution_count": 41,
     "metadata": {},
     "output_type": "execute_result"
    }
   ],
   "source": [
    "get_personal_info(text)"
   ]
  },
  {
   "cell_type": "markdown",
   "id": "538bcbcb-fbec-45c1-ba90-a51f928dcb90",
   "metadata": {},
   "source": [
    "#### Find twitter handles"
   ]
  },
  {
   "cell_type": "code",
   "execution_count": 43,
   "id": "93380411-738b-4397-ba33-4fb8365a081c",
   "metadata": {},
   "outputs": [
    {
     "data": {
      "text/plain": [
       "['elonmusk', 'teslarati', 'dummy_tesla', 'dummy_2_tesla']"
      ]
     },
     "execution_count": 43,
     "metadata": {},
     "output_type": "execute_result"
    }
   ],
   "source": [
    "text = '''\n",
    "Follow our leader Elon musk on twitter here: https://twitter.com/elonmusk, more information \n",
    "on Tesla's products can be found at https://www.tesla.com/. Also here are leading influencers \n",
    "for tesla related news,\n",
    "https://twitter.com/teslarati\n",
    "https://twitter.com/dummy_tesla\n",
    "https://twitter.com/dummy_2_tesla\n",
    "'''\n",
    "pattern = 'https://twitter.com/([aA-zZ0-9_]*)' \n",
    "\n",
    "twitter_handle = re.findall(pattern, text)\n",
    "twitter_handle"
   ]
  },
  {
   "cell_type": "markdown",
   "id": "637d926c-0de8-4070-9558-83648a9b7efd",
   "metadata": {},
   "source": [
    "#### Extract types of concentration of risk"
   ]
  },
  {
   "cell_type": "code",
   "execution_count": 44,
   "id": "962a1017-eb7e-4362-a647-da95345f9e3f",
   "metadata": {},
   "outputs": [
    {
     "data": {
      "text/plain": [
       "['Credit Risk', 'Supply Risk']"
      ]
     },
     "execution_count": 44,
     "metadata": {},
     "output_type": "execute_result"
    }
   ],
   "source": [
    "text = '''\n",
    "Concentration of Risk: Credit Risk\n",
    "Financial instruments that potentially subject us to a concentration of credit risk consist of cash, cash equivalents, marketable securities,\n",
    "restricted cash, accounts receivable, convertible note hedges, and interest rate swaps. Our cash balances are primarily invested in money market funds\n",
    "or on deposit at high credit quality financial institutions in the U.S. These deposits are typically in excess of insured limits. As of September 30, 2021\n",
    "and December 31, 2020, no entity represented 10% or more of our total accounts receivable balance. The risk of concentration for our convertible note\n",
    "hedges and interest rate swaps is mitigated by transacting with several highly-rated multinational banks.\n",
    "Concentration of Risk: Supply Risk\n",
    "We are dependent on our suppliers, including single source suppliers, and the inability of these suppliers to deliver necessary components of our\n",
    "products in a timely manner at prices, quality levels and volumes acceptable to us, or our inability to efficiently manage these components from these\n",
    "suppliers, could have a material adverse effect on our business, prospects, financial condition and operating results.\n",
    "'''\n",
    "pattern = 'Concentration of Risk: ([aA-zZ\\s]*)\\n'\n",
    "\n",
    "re.findall(pattern, text)"
   ]
  },
  {
   "cell_type": "code",
   "execution_count": 46,
   "id": "e95f7411-ab35-4301-938f-68ae53636d1e",
   "metadata": {},
   "outputs": [
    {
     "data": {
      "text/plain": [
       "['2021 Q1', '2021 S1']"
      ]
     },
     "execution_count": 46,
     "metadata": {},
     "output_type": "execute_result"
    }
   ],
   "source": [
    "text = '''\n",
    "Tesla's gross cost of operating lease vehicles in FY2021 Q1 was $4.85 billion.\n",
    "BMW's gross cost of operating vehicles in FY2021 S1 was $8 billion.\n",
    "'''\n",
    "\n",
    "pattern = 'FY(\\d{4}\\s[A-Z][0-9])' \n",
    "# pattern = \"FY(\\d{4} (?:Q[1-4]|S[1-2]))\"\n",
    "matches = re.findall(pattern, text)\n",
    "matches"
   ]
  },
  {
   "cell_type": "code",
   "execution_count": null,
   "id": "62ac8751-7f8a-46ad-89de-816846522310",
   "metadata": {},
   "outputs": [],
   "source": []
  }
 ],
 "metadata": {
  "kernelspec": {
   "display_name": "Python 3 (ipykernel)",
   "language": "python",
   "name": "python3"
  },
  "language_info": {
   "codemirror_mode": {
    "name": "ipython",
    "version": 3
   },
   "file_extension": ".py",
   "mimetype": "text/x-python",
   "name": "python",
   "nbconvert_exporter": "python",
   "pygments_lexer": "ipython3",
   "version": "3.8.2"
  }
 },
 "nbformat": 4,
 "nbformat_minor": 5
}
