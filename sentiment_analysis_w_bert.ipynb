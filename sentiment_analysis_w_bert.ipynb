{
 "cells": [
  {
   "cell_type": "markdown",
   "id": "081d6ce3-0204-4d01-8a33-f502e4a4ca88",
   "metadata": {
    "tags": []
   },
   "source": [
    "## Trying Transformers' BERT Model for sentiment analysis"
   ]
  },
  {
   "cell_type": "markdown",
   "id": "ced60d37-dfcd-4a35-bc2f-b6f029255d1d",
   "metadata": {},
   "source": [
    "#### Import Dependencies"
   ]
  },
  {
   "cell_type": "code",
   "execution_count": 2,
   "id": "44a4d94a-0ea1-417b-bf57-e3b01614ac62",
   "metadata": {},
   "outputs": [],
   "source": [
    "from transformers import AutoTokenizer, AutoModelForSequenceClassification\n",
    "import torch\n",
    "import requests\n",
    "from bs4 import BeautifulSoup\n",
    "import re"
   ]
  },
  {
   "cell_type": "markdown",
   "id": "ec0d1e24-cb9d-4ad1-8285-4634e3fc4bc8",
   "metadata": {},
   "source": [
    "#### Instantiate Model"
   ]
  },
  {
   "cell_type": "code",
   "execution_count": 3,
   "id": "32ae0c48-df96-4846-afe3-101156aca496",
   "metadata": {},
   "outputs": [
    {
     "data": {
      "application/vnd.jupyter.widget-view+json": {
       "model_id": "430e00f2bb56480c9df5aeb86e125347",
       "version_major": 2,
       "version_minor": 0
      },
      "text/plain": [
       "Downloading:   0%|          | 0.00/872k [00:00<?, ?B/s]"
      ]
     },
     "metadata": {},
     "output_type": "display_data"
    },
    {
     "data": {
      "application/vnd.jupyter.widget-view+json": {
       "model_id": "199c2a3284ca4462a74009d8bb1af1d0",
       "version_major": 2,
       "version_minor": 0
      },
      "text/plain": [
       "Downloading:   0%|          | 0.00/112 [00:00<?, ?B/s]"
      ]
     },
     "metadata": {},
     "output_type": "display_data"
    },
    {
     "data": {
      "application/vnd.jupyter.widget-view+json": {
       "model_id": "5f9c4681f1fc49698817327449494ea4",
       "version_major": 2,
       "version_minor": 0
      },
      "text/plain": [
       "Downloading:   0%|          | 0.00/39.0 [00:00<?, ?B/s]"
      ]
     },
     "metadata": {},
     "output_type": "display_data"
    }
   ],
   "source": [
    "tokenizer = AutoTokenizer.from_pretrained('nlptown/bert-base-multilingual-uncased-sentiment')"
   ]
  },
  {
   "cell_type": "code",
   "execution_count": 4,
   "id": "5c174dc5-a534-402a-92b7-7209ad44ca3a",
   "metadata": {},
   "outputs": [],
   "source": [
    "model = AutoModelForSequenceClassification.from_pretrained(\"nlptown/bert-base-multilingual-uncased-sentiment\")"
   ]
  },
  {
   "cell_type": "markdown",
   "id": "78ad3109-ab49-4374-a779-237411c46264",
   "metadata": {},
   "source": [
    "#### Encode and calculate sentiments"
   ]
  },
  {
   "cell_type": "code",
   "execution_count": 18,
   "id": "2c9f1eb6-5e82-4b47-a45d-5edf2d685f2f",
   "metadata": {},
   "outputs": [],
   "source": [
    "tokens = tokenizer.encode(\"I am okay this cold freezing weather.\", return_tensors='pt')"
   ]
  },
  {
   "cell_type": "code",
   "execution_count": 19,
   "id": "26c87a8c-1fc7-45a1-9559-8e00f3663ad1",
   "metadata": {},
   "outputs": [
    {
     "data": {
      "text/plain": [
       "tensor([[  101,   151, 10345, 44810, 10158, 10372, 19443, 12487, 21593, 24387,\n",
       "           119,   102]])"
      ]
     },
     "execution_count": 19,
     "metadata": {},
     "output_type": "execute_result"
    }
   ],
   "source": [
    "tokens"
   ]
  },
  {
   "cell_type": "code",
   "execution_count": 20,
   "id": "dd0759be-25b3-4f78-82de-23be200e4d6f",
   "metadata": {},
   "outputs": [
    {
     "data": {
      "text/plain": [
       "3"
      ]
     },
     "execution_count": 20,
     "metadata": {},
     "output_type": "execute_result"
    }
   ],
   "source": [
    "result = model(tokens)\n",
    "int(torch.argmax(result.logits))+1"
   ]
  },
  {
   "cell_type": "markdown",
   "id": "d1655409-77af-4ad9-ae84-70f90e0b3051",
   "metadata": {},
   "source": [
    "#### Collect Reviews"
   ]
  },
  {
   "cell_type": "code",
   "execution_count": 27,
   "id": "fa41a94f-f4bb-428a-95ee-65060a184756",
   "metadata": {},
   "outputs": [],
   "source": [
    "r = requests.get(\"https://www.yelp.com/biz/mejico-sydney-2\")\n",
    "soup = BeautifulSoup(r.text, 'html.parser')\n",
    "regex = re.compile('comment')\n",
    "results = soup.find_all('p', {'class':regex})\n",
    "reviews = [result.text for result in results]"
   ]
  },
  {
   "cell_type": "code",
   "execution_count": 35,
   "id": "3bd7b11d-85b3-4a9d-a020-ef1e1be21e83",
   "metadata": {},
   "outputs": [
    {
     "data": {
      "text/plain": [
       "3"
      ]
     },
     "execution_count": 35,
     "metadata": {},
     "output_type": "execute_result"
    }
   ],
   "source": [
    "int(torch.argmax(model(tokenizer.encode(reviews[0], return_tensors='pt')).logits))"
   ]
  },
  {
   "cell_type": "code",
   "execution_count": 41,
   "id": "7430b459-4171-4edd-b694-f527783dc6b4",
   "metadata": {},
   "outputs": [],
   "source": [
    "def compute_sentiment(text):\n",
    "    token = tokenizer.encode(text, return_tensors='pt')\n",
    "    result = int(torch.argmax(model(token).logits))+1\n",
    "    return result"
   ]
  },
  {
   "cell_type": "code",
   "execution_count": 42,
   "id": "788247f8-abdf-4194-8229-14a62e1c45d0",
   "metadata": {},
   "outputs": [],
   "source": [
    "output = []\n",
    "for review in reviews:\n",
    "    res = compute_sentiment(review)\n",
    "    output.append((review, res))"
   ]
  },
  {
   "cell_type": "markdown",
   "id": "52689db9-4b93-4df2-88ce-ec8d6abf6db4",
   "metadata": {},
   "source": [
    "#### Load reviews in dataframe"
   ]
  },
  {
   "cell_type": "code",
   "execution_count": 36,
   "id": "ba542079-6cc7-4978-b3e6-1cf7f1557b8c",
   "metadata": {},
   "outputs": [],
   "source": [
    "import pandas as pd\n",
    "import numpy as np"
   ]
  },
  {
   "cell_type": "code",
   "execution_count": 43,
   "id": "32d26028-2022-4bce-a8b9-b327112bd115",
   "metadata": {},
   "outputs": [],
   "source": [
    "df = pd.DataFrame(output, columns=[\"review\", \"sentiment\"])"
   ]
  },
  {
   "cell_type": "code",
   "execution_count": 44,
   "id": "3986badf-a706-4b3f-bb9d-a3e87c77fc56",
   "metadata": {},
   "outputs": [
    {
     "data": {
      "text/html": [
       "<div>\n",
       "<style scoped>\n",
       "    .dataframe tbody tr th:only-of-type {\n",
       "        vertical-align: middle;\n",
       "    }\n",
       "\n",
       "    .dataframe tbody tr th {\n",
       "        vertical-align: top;\n",
       "    }\n",
       "\n",
       "    .dataframe thead th {\n",
       "        text-align: right;\n",
       "    }\n",
       "</style>\n",
       "<table border=\"1\" class=\"dataframe\">\n",
       "  <thead>\n",
       "    <tr style=\"text-align: right;\">\n",
       "      <th></th>\n",
       "      <th>review</th>\n",
       "      <th>sentiment</th>\n",
       "    </tr>\n",
       "  </thead>\n",
       "  <tbody>\n",
       "    <tr>\n",
       "      <th>0</th>\n",
       "      <td>The food is fresh and tasty.  The scallop cevi...</td>\n",
       "      <td>4</td>\n",
       "    </tr>\n",
       "    <tr>\n",
       "      <th>1</th>\n",
       "      <td>Don't come here expecting legit Mexican food b...</td>\n",
       "      <td>3</td>\n",
       "    </tr>\n",
       "    <tr>\n",
       "      <th>2</th>\n",
       "      <td>Out of all the restaurants that I tried in Syd...</td>\n",
       "      <td>5</td>\n",
       "    </tr>\n",
       "    <tr>\n",
       "      <th>3</th>\n",
       "      <td>We came here on a Thursday night @ 5pm and by ...</td>\n",
       "      <td>4</td>\n",
       "    </tr>\n",
       "    <tr>\n",
       "      <th>4</th>\n",
       "      <td>I was pleasantly surprised at what a great job...</td>\n",
       "      <td>5</td>\n",
       "    </tr>\n",
       "    <tr>\n",
       "      <th>5</th>\n",
       "      <td>Really nice (upmarket) Mexican restaurant. Goo...</td>\n",
       "      <td>4</td>\n",
       "    </tr>\n",
       "    <tr>\n",
       "      <th>6</th>\n",
       "      <td>Ordered feed me for $59 along with that.. Food...</td>\n",
       "      <td>2</td>\n",
       "    </tr>\n",
       "    <tr>\n",
       "      <th>7</th>\n",
       "      <td>The best tasting cauliflower taco, mushroom ce...</td>\n",
       "      <td>5</td>\n",
       "    </tr>\n",
       "    <tr>\n",
       "      <th>8</th>\n",
       "      <td>Have been here twice and have absolutely loved...</td>\n",
       "      <td>5</td>\n",
       "    </tr>\n",
       "    <tr>\n",
       "      <th>9</th>\n",
       "      <td>If you're looking for a quiet little romantic ...</td>\n",
       "      <td>3</td>\n",
       "    </tr>\n",
       "  </tbody>\n",
       "</table>\n",
       "</div>"
      ],
      "text/plain": [
       "                                              review  sentiment\n",
       "0  The food is fresh and tasty.  The scallop cevi...          4\n",
       "1  Don't come here expecting legit Mexican food b...          3\n",
       "2  Out of all the restaurants that I tried in Syd...          5\n",
       "3  We came here on a Thursday night @ 5pm and by ...          4\n",
       "4  I was pleasantly surprised at what a great job...          5\n",
       "5  Really nice (upmarket) Mexican restaurant. Goo...          4\n",
       "6  Ordered feed me for $59 along with that.. Food...          2\n",
       "7  The best tasting cauliflower taco, mushroom ce...          5\n",
       "8  Have been here twice and have absolutely loved...          5\n",
       "9  If you're looking for a quiet little romantic ...          3"
      ]
     },
     "execution_count": 44,
     "metadata": {},
     "output_type": "execute_result"
    }
   ],
   "source": [
    "df"
   ]
  },
  {
   "cell_type": "code",
   "execution_count": null,
   "id": "b3449913-0418-4cc4-b9da-e1ebe931b8bd",
   "metadata": {},
   "outputs": [],
   "source": []
  }
 ],
 "metadata": {
  "kernelspec": {
   "display_name": "Python 3 (ipykernel)",
   "language": "python",
   "name": "python3"
  },
  "language_info": {
   "codemirror_mode": {
    "name": "ipython",
    "version": 3
   },
   "file_extension": ".py",
   "mimetype": "text/x-python",
   "name": "python",
   "nbconvert_exporter": "python",
   "pygments_lexer": "ipython3",
   "version": "3.8.2"
  }
 },
 "nbformat": 4,
 "nbformat_minor": 5
}
