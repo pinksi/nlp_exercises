{
 "cells": [
  {
   "cell_type": "code",
   "execution_count": 1,
   "id": "363d7b43-9421-4781-b03d-b0b98d882a4a",
   "metadata": {},
   "outputs": [],
   "source": [
    "%load_ext autoreload\n",
    "%autoreload 2"
   ]
  },
  {
   "cell_type": "code",
   "execution_count": 9,
   "id": "40305fa5-53f5-4d9f-a155-cf3349e5dd05",
   "metadata": {},
   "outputs": [],
   "source": [
    "# !pip install spacy\n",
    "# !python -m spacy download en_core_web_sm"
   ]
  },
  {
   "cell_type": "code",
   "execution_count": 5,
   "id": "a0a3ab60-2fb9-44f9-929d-b7a911ddd4a8",
   "metadata": {},
   "outputs": [],
   "source": [
    "import spacy"
   ]
  },
  {
   "cell_type": "code",
   "execution_count": 8,
   "id": "f13a8a71-4105-4c97-9ae3-350d1629212f",
   "metadata": {},
   "outputs": [],
   "source": [
    "nlp = spacy.load(\"en_core_web_sm\")"
   ]
  },
  {
   "cell_type": "code",
   "execution_count": 21,
   "id": "cb535129-42de-4eba-bbd2-b8c5416ee8d4",
   "metadata": {},
   "outputs": [],
   "source": [
    "sentences = [\n",
    "    \"The food we had yesterday was delicious\",\n",
    "    \"My time in Italy was very enjoyable\",\n",
    "    \"I found the meal to be tasty\",\n",
    "    \"The Internet was so slow\",\n",
    "    \"Our experience was suboptimal\",\n",
    "]"
   ]
  },
  {
   "cell_type": "code",
   "execution_count": 22,
   "id": "1bc20e88-ac87-4105-a2a9-141202143373",
   "metadata": {},
   "outputs": [
    {
     "name": "stdout",
     "output_type": "stream",
     "text": [
      "The det food NOUN DET []\n",
      "food nsubj was AUX NOUN [The, had]\n",
      "we nsubj had VERB PRON []\n",
      "had relcl food NOUN VERB [we, yesterday]\n",
      "yesterday npadvmod had VERB NOUN []\n",
      "was ROOT was AUX AUX [food, delicious]\n",
      "delicious acomp was AUX ADJ []\n",
      "My poss time NOUN PRON []\n",
      "time nsubj was AUX NOUN [My, in]\n",
      "in prep time NOUN ADP [Italy]\n",
      "Italy pobj in ADP PROPN []\n",
      "was ROOT was AUX AUX [time, enjoyable]\n",
      "very advmod enjoyable ADJ ADV []\n",
      "enjoyable acomp was AUX ADJ [very]\n",
      "I nsubj found VERB PRON []\n",
      "found ROOT found VERB VERB [I, be]\n",
      "the det meal NOUN DET []\n",
      "meal nsubj be AUX NOUN [the]\n",
      "to aux be AUX PART []\n",
      "be ccomp found VERB AUX [meal, to, tasty]\n",
      "tasty acomp be AUX ADJ []\n",
      "The det Internet NOUN DET []\n",
      "Internet nsubj was AUX NOUN [The]\n",
      "was ROOT was AUX AUX [Internet, slow]\n",
      "so advmod slow ADJ ADV []\n",
      "slow acomp was AUX ADJ [so]\n",
      "Our poss experience NOUN PRON []\n",
      "experience nsubj was AUX NOUN [Our]\n",
      "was ROOT was AUX AUX [experience, suboptimal]\n",
      "suboptimal acomp was AUX ADJ []\n"
     ]
    }
   ],
   "source": [
    "# split sentences so that we have target aspects and their sentiments descriptions\n",
    "for sentence in sentences:\n",
    "    doc = nlp(sentence)\n",
    "    for token in doc:\n",
    "        print(token.text, token.dep_, token.head.text, token.head.pos_, token.pos_, [child for child in token.children])"
   ]
  },
  {
   "cell_type": "code",
   "execution_count": 24,
   "id": "b1a92074-778d-4dd1-a9ae-baf5ef2ee73b",
   "metadata": {},
   "outputs": [
    {
     "name": "stdout",
     "output_type": "stream",
     "text": [
      "[{'aspect': 'food', 'description': 'delicious'}, {'aspect': 'time', 'description': 'very enjoyable'}, {'aspect': 'meal', 'description': 'tasty'}, {'aspect': 'Internet', 'description': 'so slow'}, {'aspect': 'experience', 'description': 'suboptimal'}]\n"
     ]
    }
   ],
   "source": [
    "# check sentiment descriptions in sentences [adj in sentences], adding intensifiers -> it picks up adverbs (checks for child tokens for each adjective\n",
    "# and picks up adverbs like very, quite, so ,etc\n",
    "\n",
    "aspects = []\n",
    "for sentence in sentences:\n",
    "    doc = nlp(sentence)\n",
    "    descriptive_term = ''\n",
    "    target = ''\n",
    "    desc_term_list = []\n",
    "    for token in doc:\n",
    "        if token.dep_ == 'nsubj' and token.pos_ == 'NOUN':\n",
    "            target = token.text\n",
    "        if token.pos_ == \"ADJ\":\n",
    "            prepend = ''\n",
    "            for child in token.children:\n",
    "                if child.pos_ != 'ADV':\n",
    "                    continue\n",
    "                prepend += child.text + ' '\n",
    "            descriptive_term = prepend + token.text    \n",
    "            desc_term_list.append(descriptive_term)\n",
    "    # print(sentence)\n",
    "    # print(descriptive_term)\n",
    "    # print(desc_term_list)\n",
    "    aspects.append({\"aspect\": target, \"description\": descriptive_term})\n",
    "print(aspects)"
   ]
  },
  {
   "cell_type": "markdown",
   "id": "1beea892-c82e-44cc-8707-3e28cae96c61",
   "metadata": {},
   "source": [
    "Using TextBlob sentiment analysis"
   ]
  },
  {
   "cell_type": "code",
   "execution_count": 26,
   "id": "37441cd3-733b-4bda-966a-6aa5e71256c5",
   "metadata": {},
   "outputs": [],
   "source": [
    "# !pip install TextBlob"
   ]
  },
  {
   "cell_type": "code",
   "execution_count": 27,
   "id": "e96af978-dd71-4719-a04f-b9fc0d64a9cc",
   "metadata": {},
   "outputs": [],
   "source": [
    "from textblob import TextBlob"
   ]
  },
  {
   "cell_type": "code",
   "execution_count": 28,
   "id": "c99fc187-4668-4013-bcc3-f6cb82cb6368",
   "metadata": {},
   "outputs": [
    {
     "name": "stdout",
     "output_type": "stream",
     "text": [
      "[{'aspect': 'food', 'description': 'delicious', 'sentiment': Sentiment(polarity=1.0, subjectivity=1.0)}, {'aspect': 'time', 'description': 'very enjoyable', 'sentiment': Sentiment(polarity=0.65, subjectivity=0.78)}, {'aspect': 'meal', 'description': 'tasty', 'sentiment': Sentiment(polarity=0.0, subjectivity=0.0)}, {'aspect': 'Internet', 'description': 'so slow', 'sentiment': Sentiment(polarity=-0.30000000000000004, subjectivity=0.39999999999999997)}, {'aspect': 'experience', 'description': 'suboptimal', 'sentiment': Sentiment(polarity=0.0, subjectivity=0.0)}]\n"
     ]
    }
   ],
   "source": [
    "for aspect in aspects:\n",
    "    aspect[\"sentiment\"] = TextBlob(aspect[\"description\"]).sentiment\n",
    "print(aspects)"
   ]
  },
  {
   "cell_type": "markdown",
   "id": "48e23e73-581c-494e-943c-341dd6916acf",
   "metadata": {},
   "source": [
    "Training NaiveBayes Classifier for TextBlob"
   ]
  },
  {
   "cell_type": "code",
   "execution_count": 32,
   "id": "173dc98b-fe96-451b-b9df-b92c81a12d18",
   "metadata": {},
   "outputs": [],
   "source": [
    "# !python -m textblob.download_corpora"
   ]
  },
  {
   "cell_type": "code",
   "execution_count": 33,
   "id": "b3f12f49-7ee9-4209-bdf8-61e0c4f9e9fc",
   "metadata": {},
   "outputs": [],
   "source": [
    "from textblob.classifiers import NaiveBayesClassifier"
   ]
  },
  {
   "cell_type": "code",
   "execution_count": 34,
   "id": "bcda7a10-6694-4f76-9b1f-5d58f604f24e",
   "metadata": {},
   "outputs": [],
   "source": [
    "train = [(\"Slow internet\", \"negative\"),\n",
    "        (\"delicious food\", \"positive\"),\n",
    "        (\"suboptimal experience\", \"negative\"),\n",
    "        (\"very enjoyable time\", \"positive\"),\n",
    "        ]\n",
    "cl = NaiveBayesClassifier(train)"
   ]
  },
  {
   "cell_type": "code",
   "execution_count": 38,
   "id": "1f0836fc-fd6b-481d-8707-9374c45dc73f",
   "metadata": {},
   "outputs": [],
   "source": [
    "blob = TextBlob(\"The food was delicious. the experience was suboptimal\", classifier=cl)"
   ]
  },
  {
   "cell_type": "code",
   "execution_count": 40,
   "id": "9210b11b-0a6f-4861-81b7-589e10deab94",
   "metadata": {},
   "outputs": [
    {
     "name": "stdout",
     "output_type": "stream",
     "text": [
      "The food was delicious. - positive\n",
      "the experience was suboptimal - negative\n"
     ]
    }
   ],
   "source": [
    "for s in blob.sentences:\n",
    "    print(s, \"-\", s.classify())"
   ]
  },
  {
   "cell_type": "code",
   "execution_count": null,
   "id": "baeb310d-7b09-4954-8780-202df1e7bd35",
   "metadata": {},
   "outputs": [],
   "source": []
  }
 ],
 "metadata": {
  "kernelspec": {
   "display_name": "Python 3 (ipykernel)",
   "language": "python",
   "name": "python3"
  },
  "language_info": {
   "codemirror_mode": {
    "name": "ipython",
    "version": 3
   },
   "file_extension": ".py",
   "mimetype": "text/x-python",
   "name": "python",
   "nbconvert_exporter": "python",
   "pygments_lexer": "ipython3",
   "version": "3.8.10"
  }
 },
 "nbformat": 4,
 "nbformat_minor": 5
}
